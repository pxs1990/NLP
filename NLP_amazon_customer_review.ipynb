{
  "nbformat": 4,
  "nbformat_minor": 0,
  "metadata": {
    "colab": {
      "provenance": [],
      "toc_visible": true,
      "authorship_tag": "ABX9TyMHxer6UktgyRljZTYJyvGL",
      "include_colab_link": true
    },
    "kernelspec": {
      "name": "python3",
      "display_name": "Python 3"
    },
    "language_info": {
      "name": "python"
    }
  },
  "cells": [
    {
      "cell_type": "markdown",
      "metadata": {
        "id": "view-in-github",
        "colab_type": "text"
      },
      "source": [
        "<a href=\"https://colab.research.google.com/github/pxs1990/NLP/blob/main/NLP_amazon_customer_review.ipynb\" target=\"_parent\"><img src=\"https://colab.research.google.com/assets/colab-badge.svg\" alt=\"Open In Colab\"/></a>"
      ]
    },
    {
      "cell_type": "code",
      "execution_count": 2,
      "metadata": {
        "id": "fRkS1qKr72VH"
      },
      "outputs": [],
      "source": [
        "# import libraries\n",
        "from bs4 import BeautifulSoup\n",
        "import requests\n",
        "import time\n",
        "import datetime\n",
        "import smtplib"
      ]
    },
    {
      "cell_type": "code",
      "source": [
        " #Connect to Website and pull in data\n",
        "\n",
        "url = 'https://www.amazon.com/Lenovo-IdeaPad-Laptop-Microsoft-Quad-Core/dp/B0BY5VQGSR/ref=sr_1_1_sspa?crid=DCXTSGQQYXP8&keywords=laptop&qid=1707611587&sprefix=laptop%2Caps%2C116&sr=8-1-spons&sp_csd=d2lkZ2V0TmFtZT1zcF9hdGY&th=1'\n",
        "response = requests.get(url)\n",
        "#print(response.text)"
      ],
      "metadata": {
        "id": "gEPF8TxTH0Xm"
      },
      "execution_count": 4,
      "outputs": []
    },
    {
      "cell_type": "code",
      "source": [
        "page = requests.get(url)"
      ],
      "metadata": {
        "id": "FfL7lmOuI70-"
      },
      "execution_count": 5,
      "outputs": []
    },
    {
      "cell_type": "code",
      "source": [
        "soup = BeautifulSoup(page.content, 'html.parser')\n",
        "#print(soup.prettify())"
      ],
      "metadata": {
        "id": "wkjkow-NJCZJ"
      },
      "execution_count": 7,
      "outputs": []
    },
    {
      "cell_type": "markdown",
      "source": [
        "# **Getting reviewers name**"
      ],
      "metadata": {
        "id": "5tLUcHmlqNav"
      }
    },
    {
      "cell_type": "code",
      "source": [
        "reviewers = soup.find_all('span', class_ = 'a-profile-name')\n",
        "reviewers"
      ],
      "metadata": {
        "colab": {
          "base_uri": "https://localhost:8080/"
        },
        "id": "s0hCZiCtJMml",
        "outputId": "0b686516-3b8f-4403-80e1-6eaa0b71da9c"
      },
      "execution_count": 8,
      "outputs": [
        {
          "output_type": "execute_result",
          "data": {
            "text/plain": [
              "[<span class=\"a-profile-name\">Amazon Customer</span>,\n",
              " <span class=\"a-profile-name\">Amazon Customer</span>,\n",
              " <span class=\"a-profile-name\">Matthew A. Ray</span>,\n",
              " <span class=\"a-profile-name\">larry</span>,\n",
              " <span class=\"a-profile-name\">K. Atkinson</span>,\n",
              " <span class=\"a-profile-name\">Amazon Customer</span>,\n",
              " <span class=\"a-profile-name\">anom</span>,\n",
              " <span class=\"a-profile-name\">liang</span>,\n",
              " <span class=\"a-profile-name\">Corinne B</span>,\n",
              " <span class=\"a-profile-name\">Maryann Fernandez</span>]"
            ]
          },
          "metadata": {},
          "execution_count": 8
        }
      ]
    },
    {
      "cell_type": "code",
      "source": [
        "cust_name = []\n",
        "for i in range(0,len(reviewers)):\n",
        "    cust_name.append(reviewers[i].get_text())\n",
        "cust_name"
      ],
      "metadata": {
        "colab": {
          "base_uri": "https://localhost:8080/"
        },
        "id": "Jr91FdsOLPq8",
        "outputId": "916aedff-48f6-479f-f45d-62f2199c0926"
      },
      "execution_count": 9,
      "outputs": [
        {
          "output_type": "execute_result",
          "data": {
            "text/plain": [
              "['Amazon Customer',\n",
              " 'Amazon Customer',\n",
              " 'Matthew A. Ray',\n",
              " 'larry',\n",
              " 'K. Atkinson',\n",
              " 'Amazon Customer',\n",
              " 'anom',\n",
              " 'liang',\n",
              " 'Corinne B',\n",
              " 'Maryann Fernandez']"
            ]
          },
          "metadata": {},
          "execution_count": 9
        }
      ]
    },
    {
      "cell_type": "code",
      "source": [
        "cust_name=list(dict.fromkeys(cust_name))\n",
        "cust_name"
      ],
      "metadata": {
        "colab": {
          "base_uri": "https://localhost:8080/"
        },
        "id": "4fy_qEEbegny",
        "outputId": "168d0e4a-bdd7-4abe-e535-2a983f197664"
      },
      "execution_count": 66,
      "outputs": [
        {
          "output_type": "execute_result",
          "data": {
            "text/plain": [
              "['Amazon Customer',\n",
              " 'Matthew A. Ray',\n",
              " 'larry',\n",
              " 'K. Atkinson',\n",
              " 'anom',\n",
              " 'liang',\n",
              " 'Corinne B',\n",
              " 'Maryann Fernandez']"
            ]
          },
          "metadata": {},
          "execution_count": 66
        }
      ]
    },
    {
      "cell_type": "markdown",
      "source": [
        "# **Getting review stars**"
      ],
      "metadata": {
        "id": "QieLyitdqXi6"
      }
    },
    {
      "cell_type": "code",
      "source": [
        "stars = soup.select('i.review-rating span.a-icon-alt')\n",
        "stars"
      ],
      "metadata": {
        "colab": {
          "base_uri": "https://localhost:8080/"
        },
        "id": "pPV_X7SgobfB",
        "outputId": "1b3d9708-7dbc-46a8-e338-3615d4e7453f"
      },
      "execution_count": 12,
      "outputs": [
        {
          "output_type": "execute_result",
          "data": {
            "text/plain": [
              "[<span class=\"a-icon-alt\">5.0 out of 5 stars</span>,\n",
              " <span class=\"a-icon-alt\">5.0 out of 5 stars</span>,\n",
              " <span class=\"a-icon-alt\">4.0 out of 5 stars</span>,\n",
              " <span class=\"a-icon-alt\">5.0 out of 5 stars</span>,\n",
              " <span class=\"a-icon-alt\">1.0 out of 5 stars</span>,\n",
              " <span class=\"a-icon-alt\">5.0 out of 5 stars</span>,\n",
              " <span class=\"a-icon-alt\">5.0 out of 5 stars</span>,\n",
              " <span class=\"a-icon-alt\">3.0 out of 5 stars</span>]"
            ]
          },
          "metadata": {},
          "execution_count": 12
        }
      ]
    },
    {
      "cell_type": "code",
      "source": [
        "star_text = [float(t.text[0]) for t in stars]\n",
        "star_text"
      ],
      "metadata": {
        "colab": {
          "base_uri": "https://localhost:8080/"
        },
        "id": "Gfl2fgXYqjEX",
        "outputId": "264f63eb-f588-48fa-d3cd-1f0ffbe1835b"
      },
      "execution_count": 13,
      "outputs": [
        {
          "output_type": "execute_result",
          "data": {
            "text/plain": [
              "[5.0, 5.0, 4.0, 5.0, 1.0, 5.0, 5.0, 3.0]"
            ]
          },
          "metadata": {},
          "execution_count": 13
        }
      ]
    },
    {
      "cell_type": "markdown",
      "source": [
        "# **Getting review titles**"
      ],
      "metadata": {
        "id": "G-ql4clVoqeE"
      }
    },
    {
      "cell_type": "code",
      "source": [
        "titles = soup.select('a.review-title span:nth-of-type(2)')#there are 3 span tags inside a tag and third tag has the title\n",
        "titles"
      ],
      "metadata": {
        "colab": {
          "base_uri": "https://localhost:8080/"
        },
        "id": "LoKqQ9dCo5HQ",
        "outputId": "3926f8d5-f854-43c3-f423-17cb3e3faf0f"
      },
      "execution_count": 14,
      "outputs": [
        {
          "output_type": "execute_result",
          "data": {
            "text/plain": [
              "[<span>Great laptop for the price!</span>,\n",
              " <span>Finally a laptop that runs extremely well</span>,\n",
              " <span>My new foray into Windows 11, so far so good</span>,\n",
              " <span>Lenovo Laptop</span>,\n",
              " <span>decent but not the best</span>,\n",
              " <span>Good and not expensive.</span>,\n",
              " <span>Am pleased</span>,\n",
              " <span>Warranty expired, challenging to get it activated</span>]"
            ]
          },
          "metadata": {},
          "execution_count": 14
        }
      ]
    },
    {
      "cell_type": "code",
      "source": [
        "titles1 = []\n",
        "for i in titles:\n",
        "    titles1.append(i.get_text())\n",
        "titles1"
      ],
      "metadata": {
        "colab": {
          "base_uri": "https://localhost:8080/"
        },
        "id": "8z7KpMZ0pAvV",
        "outputId": "669e1a1c-c44d-44f8-a76d-a90036847d31"
      },
      "execution_count": 58,
      "outputs": [
        {
          "output_type": "execute_result",
          "data": {
            "text/plain": [
              "['Great laptop for the price!',\n",
              " 'Finally a laptop that runs extremely well',\n",
              " 'My new foray into Windows 11, so far so good',\n",
              " 'Lenovo Laptop',\n",
              " 'decent but not the best',\n",
              " 'Good and not expensive.',\n",
              " 'Am pleased',\n",
              " 'Warranty expired, challenging to get it activated']"
            ]
          },
          "metadata": {},
          "execution_count": 58
        }
      ]
    },
    {
      "cell_type": "markdown",
      "source": [
        "# **Getting customer reviews**"
      ],
      "metadata": {
        "id": "7g-QNgNqqFmG"
      }
    },
    {
      "cell_type": "code",
      "source": [
        "# Find all span elements with data-hook='review-body', parent span tag\n",
        "review_spans = soup.find_all('span', {'data-hook': 'review-body'})\n",
        "review_spans[0]#its got 8 parent span tags."
      ],
      "metadata": {
        "colab": {
          "base_uri": "https://localhost:8080/"
        },
        "id": "gBqiq5kGECSY",
        "outputId": "4c86b73e-746f-4777-e073-233609c7f11f"
      },
      "execution_count": 38,
      "outputs": [
        {
          "output_type": "execute_result",
          "data": {
            "text/plain": [
              "<span class=\"a-size-base review-text\" data-hook=\"review-body\"><div class=\"a-expander-collapsed-height a-row a-expander-container a-expander-partial-collapse-container\" data-a-expander-collapsed-height=\"300\" data-a-expander-name=\"review_text_read_more\" style=\"max-height:300px\"><div aria-expanded=\"false\" class=\"a-expander-content reviewText review-text-content a-expander-partial-collapse-content\" data-hook=\"review-collapsed\">\n",
              "<span>I am very happy with this laptop.  I bought it for my daughter.  I didn't realize it came with Microsoft Windows S, which is a more secure version of the operating system and only allows you to install apps from the Microsoft Store.  There are some who would not enjoy this, but for our purposes, this is perfect.  I feel safer knowing that the applications I am installing have been vetted by Microsoft before I install them.  I think this is the perfect laptop to purchase for someone who is less technical and doesn't understand the importance of not clicking and installing everything under the sun.<br><br/>The laptop itself came with a Terrabyte of disk space (almost unheard of these days in lower priced laptops) and 20 Gigs of RAM (way more than usual in laptops of this price).<br/><br/>I would purchase another of these in a heartbeat, if I needed to.</br></span>\n",
              "</div><div class=\"a-expander-header a-expander-partial-collapse-header\"><div class=\"a-expander-content-fade\"></div><a aria-expanded=\"false\" aria-label=\"Toggle full review text\" class=\"a-declarative\" data-a-expander-toggle='{\"allowLinkDefault\":true, \"expand_prompt\":\"Read more\", \"collapse_prompt\":\"Read less\"}' data-action=\"a-expander-toggle\" data-csa-c-func-deps=\"aui-da-a-expander-toggle\" data-csa-c-type=\"widget\" data-csa-interaction-events=\"click\" data-hook=\"expand-collapse-read-more-less\" href=\"javascript:void(0)\" role=\"button\"><i class=\"a-icon a-icon-extender-expand\"></i><span class=\"a-expander-prompt\">Read more</span></a></div></div></span>"
            ]
          },
          "metadata": {},
          "execution_count": 38
        }
      ]
    },
    {
      "cell_type": "code",
      "source": [
        "len(review_spans)"
      ],
      "metadata": {
        "colab": {
          "base_uri": "https://localhost:8080/"
        },
        "id": "EZwFIk9BNbJi",
        "outputId": "0dea47e8-1941-4e34-b4f0-e4322de1f6a3"
      },
      "execution_count": 39,
      "outputs": [
        {
          "output_type": "execute_result",
          "data": {
            "text/plain": [
              "8"
            ]
          },
          "metadata": {},
          "execution_count": 39
        }
      ]
    },
    {
      "cell_type": "code",
      "source": [
        "# Initialize an empty list to store the reviews\n",
        "reviews = []\n",
        "\n",
        "# Iterate over each found span\n",
        "for span in review_spans:\n",
        "    # Find all child span elements within each found span\n",
        "    child_spans = span.find_all('span')\n",
        "\n",
        "    # Check if there are at least two child spans\n",
        "    if len(child_spans) >= 2:\n",
        "        # Get the second child span (index 1) and extract its text content\n",
        "        second_span_text = child_spans[0].get_text(strip=True)\n",
        "\n",
        "        # Append the extracted text to the list of reviews\n",
        "        reviews.append(second_span_text)\n",
        "    else:\n",
        "        # Handle the case where there is no second child span\n",
        "        reviews.append(\"No second span found in the parent span.\")\n",
        "\n",
        "reviews"
      ],
      "metadata": {
        "colab": {
          "base_uri": "https://localhost:8080/"
        },
        "id": "BrEtdPebJWJt",
        "outputId": "d510d41a-9f85-4d56-b81d-37ed2099e970"
      },
      "execution_count": 50,
      "outputs": [
        {
          "output_type": "execute_result",
          "data": {
            "text/plain": [
              "[\"I am very happy with this laptop.  I bought it for my daughter.  I didn't realize it came with Microsoft Windows S, which is a more secure version of the operating system and only allows you to install apps from the Microsoft Store.  There are some who would not enjoy this, but for our purposes, this is perfect.  I feel safer knowing that the applications I am installing have been vetted by Microsoft before I install them.  I think this is the perfect laptop to purchase for someone who is less technical and doesn't understand the importance of not clicking and installing everything under the sun.The laptop itself came with a Terrabyte of disk space (almost unheard of these days in lower priced laptops) and 20 Gigs of RAM (way more than usual in laptops of this price).I would purchase another of these in a heartbeat, if I needed to.\",\n",
              " \"I've had two different laptops from HP and ASUS  that ran extremely bad. They were junk new out of the box. This laptop from Lenovo runs very fast and smooth. Very fast boot up and fast opening the browser and other websites . What I did find out is the windows 11 is very difficult to use. It won't allow me to download printer programs from cannon.com. it makes me really mad that Microsoft stopped this low to prevent downloading programs you need for your printer. Microsoft says use their store to get needed programs. I tried that and still failed. Now I'm faced calling Microsoft for help and I shouldn't have to do that. To me windows 11 is a worthless program. The computer itself is really great. In the end, what it amounts to is Microsoft holds your computer at ransom . Apple doesn't use this tactic from what I've read about Mac computers. Mac computers has several programs that are used to scan anything you download. Why doesn't Microsoft provide the protections when you need to download from the internet instead of their store. Microsoft store diffenatly does not have everything you need in their store. Generic software drivers do not work for everyone and generic software is not the same as factory software that comes with the hardware you use to print / scan or copy. Microsoft also slowed down my laptop when I shut off the S software for security . If Microsoft offered everything under the sun people need for their laptops then they would not need to resort such tactics like threatening to slow down your computer.\",\n",
              " 'This is my first new computer in about 7 or 8 years.  Its fast, very quiet and has a lot of features.Thus far it appears to be a pretty good product.  Windows 11 really has attempted to rig the OE to try to dissuade you from using any other browser other than Windows.  If you try to load Google Chrome, all kinds of bells and whistles go off.  I use Chrome to cut back on odds of getting a virus while surfing the internet.',\n",
              " 'I love the size and light weight. Very fast so far for my applications and it has more than what I need to get things done. Love it.',\n",
              " 'i bought this cause it said it was good for streaming. well its terrible for streaming. the speakers are barely  able to hear them. my wifes 299 ryzen i bought here off here has louder speakers then this. cant hear the sound unless you plug in head phones on it. if your going to stream games or movies dont buy this lap top its terrible. movies and games use alot of cpu usage. im always at 89% while streaming a game or a movie on this laptop. i wish the speakers werent so quiet thats a very dissapointment for me. speakers cranked up to 100 and cant even hear music on spotify cause there soo quiet. the only thing i will say is decemt is if you are multi tasking on websites. it switches browsers and tabs really quick and rarely goes slow. i do alot of surveys online and always have 5-7 tabs open at once and it switches back and fourth with no lag doesnt freezes which i like except when im streaming movies on disney or games it lags alot. i mainly bought this to stream games on twitch and its terrible at that.',\n",
              " 'This 15.6  laptop  with 20GB RAM 1TB SSD, also with1 year Microsoft office 365 and so on,  are all good for me. I can save or store a lot of documents. With microsoft 365, I can easily star work immediatly, also the price good, I like it. So I immediately order it. Thank you! (Goshang)',\n",
              " \"The laptop is not too heavy, has a large screen and has been functioning well over the last month. Just wanted to drop a good review.  Just make sure you have your Gmail password ready when you run through the set up...can be confusing to get into the correct mode if you do not.  I use msn usually so using both accounts can be confusing if u don't set both up when running thru the setup process. Otherwise it has worked well.  Shipping and delivery were fine.  The power cord is not completely flush with the plug in area of the device but it does not seem to affect performance.  There is a nice feature where you can slide a little door over the camera above the monitor. Overall for the price it has met my needs nicely.\",\n",
              " 'Yes the first couple of months - very pleased with the purchased even though laptop did not have a lot of internal memory.3 months in, keyboard not working, including virtual keyboard and plugging in external keyboard. Called Lenovo, they checked my serial number and it turns out the warranty had expired. I explain that I bought it new and am now trying to get an invoice from seller, which they do not provide.Still trying to make my case to Lenovo, otherwise I will need to pay $70 for premium support. This laptop may not end up being the great deal I thought I was getting.']"
            ]
          },
          "metadata": {},
          "execution_count": 50
        }
      ]
    },
    {
      "cell_type": "code",
      "source": [
        "len(reviews)"
      ],
      "metadata": {
        "colab": {
          "base_uri": "https://localhost:8080/"
        },
        "id": "1QPqwD5wQY41",
        "outputId": "7ac7f57e-d69f-47ee-ccb1-de3e62328a13"
      },
      "execution_count": 51,
      "outputs": [
        {
          "output_type": "execute_result",
          "data": {
            "text/plain": [
              "8"
            ]
          },
          "metadata": {},
          "execution_count": 51
        }
      ]
    },
    {
      "cell_type": "markdown",
      "source": [
        "# **Getting prices**"
      ],
      "metadata": {
        "id": "hf0JtAuHRmmX"
      }
    },
    {
      "cell_type": "code",
      "source": [
        "prices = soup.find_all('span', class_ = \"a-price-whole\")\n",
        "prices"
      ],
      "metadata": {
        "colab": {
          "base_uri": "https://localhost:8080/"
        },
        "id": "RMI_1YpXRe5_",
        "outputId": "f6962068-b13a-487d-b150-0520686540c5"
      },
      "execution_count": 52,
      "outputs": [
        {
          "output_type": "execute_result",
          "data": {
            "text/plain": [
              "[<span class=\"a-price-whole\">419<span class=\"a-price-decimal\">.</span></span>,\n",
              " <span class=\"a-price-whole\">15<span class=\"a-price-decimal\">.</span></span>,\n",
              " <span class=\"a-price-whole\">10<span class=\"a-price-decimal\">.</span></span>,\n",
              " <span class=\"a-price-whole\">479<span class=\"a-price-decimal\">.</span></span>,\n",
              " <span class=\"a-price-whole\">499<span class=\"a-price-decimal\">.</span></span>,\n",
              " <span class=\"a-price-whole\">339<span class=\"a-price-decimal\">.</span></span>,\n",
              " <span class=\"a-price-whole\">419<span class=\"a-price-decimal\">.</span></span>,\n",
              " <span class=\"a-price-whole\">429<span class=\"a-price-decimal\">.</span></span>,\n",
              " <span class=\"a-price-whole\">599<span class=\"a-price-decimal\">.</span></span>,\n",
              " <span class=\"a-price-whole\">419<span class=\"a-price-decimal\">.</span></span>,\n",
              " <span class=\"a-price-whole\">499<span class=\"a-price-decimal\">.</span></span>,\n",
              " <span class=\"a-price-whole\">499<span class=\"a-price-decimal\">.</span></span>,\n",
              " <span class=\"a-price-whole\">465<span class=\"a-price-decimal\">.</span></span>,\n",
              " <span class=\"a-price-whole\">419<span class=\"a-price-decimal\">.</span></span>]"
            ]
          },
          "metadata": {},
          "execution_count": 52
        }
      ]
    },
    {
      "cell_type": "code",
      "source": [
        "prices_list = []\n",
        "for i in prices:\n",
        "    prices_list.append(float(i.get_text()))\n",
        "prices_list"
      ],
      "metadata": {
        "colab": {
          "base_uri": "https://localhost:8080/"
        },
        "id": "fq48HqZUSP7n",
        "outputId": "cfa38992-fcb6-4d45-8e5e-d086d1e5aea9"
      },
      "execution_count": 57,
      "outputs": [
        {
          "output_type": "execute_result",
          "data": {
            "text/plain": [
              "[419.0,\n",
              " 15.0,\n",
              " 10.0,\n",
              " 479.0,\n",
              " 499.0,\n",
              " 339.0,\n",
              " 419.0,\n",
              " 429.0,\n",
              " 599.0,\n",
              " 419.0,\n",
              " 499.0,\n",
              " 499.0,\n",
              " 465.0,\n",
              " 419.0]"
            ]
          },
          "metadata": {},
          "execution_count": 57
        }
      ]
    },
    {
      "cell_type": "markdown",
      "source": [
        "# **Getting review dates**"
      ],
      "metadata": {
        "id": "xOqfhkpiYyL2"
      }
    },
    {
      "cell_type": "code",
      "source": [
        "# Find all span elements with data-hook='review-body', parent span tag\n",
        "date_spans = soup.find_all('span', {'data-hook': 'review-date'})\n",
        "date_spans"
      ],
      "metadata": {
        "colab": {
          "base_uri": "https://localhost:8080/"
        },
        "id": "7Si_yf0-Y14l",
        "outputId": "0766f320-fa9e-476b-c8f3-29af49c48b6f"
      },
      "execution_count": 59,
      "outputs": [
        {
          "output_type": "execute_result",
          "data": {
            "text/plain": [
              "[<span class=\"a-size-base a-color-secondary review-date\" data-hook=\"review-date\">Reviewed in the United States on January 27, 2024</span>,\n",
              " <span class=\"a-size-base a-color-secondary review-date\" data-hook=\"review-date\">Reviewed in the United States on April 8, 2023</span>,\n",
              " <span class=\"a-size-base a-color-secondary review-date\" data-hook=\"review-date\">Reviewed in the United States on November 6, 2023</span>,\n",
              " <span class=\"a-size-base a-color-secondary review-date\" data-hook=\"review-date\">Reviewed in the United States on February 1, 2024</span>,\n",
              " <span class=\"a-size-base a-color-secondary review-date\" data-hook=\"review-date\">Reviewed in the United States on January 31, 2024</span>,\n",
              " <span class=\"a-size-base a-color-secondary review-date\" data-hook=\"review-date\">Reviewed in the United States on January 27, 2024</span>,\n",
              " <span class=\"a-size-base a-color-secondary review-date\" data-hook=\"review-date\">Reviewed in the United States on November 15, 2023</span>,\n",
              " <span class=\"a-size-base a-color-secondary review-date\" data-hook=\"review-date\">Reviewed in the United States on December 19, 2023</span>]"
            ]
          },
          "metadata": {},
          "execution_count": 59
        }
      ]
    },
    {
      "cell_type": "code",
      "source": [
        "dates_list = []\n",
        "for i in date_spans:\n",
        "    dates_list.append(i.get_text()[33:])\n",
        "dates_list"
      ],
      "metadata": {
        "colab": {
          "base_uri": "https://localhost:8080/"
        },
        "id": "C1ajtqztbKUt",
        "outputId": "855088b8-4fcc-40d2-e2a9-85c3b561dde5"
      },
      "execution_count": 60,
      "outputs": [
        {
          "output_type": "execute_result",
          "data": {
            "text/plain": [
              "['January 27, 2024',\n",
              " 'April 8, 2023',\n",
              " 'November 6, 2023',\n",
              " 'February 1, 2024',\n",
              " 'January 31, 2024',\n",
              " 'January 27, 2024',\n",
              " 'November 15, 2023',\n",
              " 'December 19, 2023']"
            ]
          },
          "metadata": {},
          "execution_count": 60
        }
      ]
    },
    {
      "cell_type": "markdown",
      "source": [
        "# **Concatinating mined datas into a dataframe**"
      ],
      "metadata": {
        "id": "U-EZ6B50baIE"
      }
    },
    {
      "cell_type": "code",
      "source": [
        "import pandas as pd"
      ],
      "metadata": {
        "id": "AyelsIUEbZHE"
      },
      "execution_count": 61,
      "outputs": []
    },
    {
      "cell_type": "code",
      "source": [
        "df=pd.DataFrame({'Date of Review':dates_list,'Name of Reviewers':cust_name,'Rating out of 5':star_text,'Titles of Reviews':titles1,'Reviews':reviews})"
      ],
      "metadata": {
        "id": "tFy1jpiacB2z"
      },
      "execution_count": 70,
      "outputs": []
    },
    {
      "cell_type": "code",
      "source": [
        "df"
      ],
      "metadata": {
        "colab": {
          "base_uri": "https://localhost:8080/",
          "height": 456
        },
        "id": "955ERLeCe_sh",
        "outputId": "94e4280f-e788-4582-c4b2-86d8d4ef70de"
      },
      "execution_count": 71,
      "outputs": [
        {
          "output_type": "execute_result",
          "data": {
            "text/plain": [
              "      Date of Review  Name of Reviewers  Rating out of 5  \\\n",
              "0   January 27, 2024    Amazon Customer              5.0   \n",
              "1      April 8, 2023     Matthew A. Ray              5.0   \n",
              "2   November 6, 2023              larry              4.0   \n",
              "3   February 1, 2024        K. Atkinson              5.0   \n",
              "4   January 31, 2024               anom              1.0   \n",
              "5   January 27, 2024              liang              5.0   \n",
              "6  November 15, 2023          Corinne B              5.0   \n",
              "7  December 19, 2023  Maryann Fernandez              3.0   \n",
              "\n",
              "                                   Titles of Reviews  \\\n",
              "0                        Great laptop for the price!   \n",
              "1          Finally a laptop that runs extremely well   \n",
              "2       My new foray into Windows 11, so far so good   \n",
              "3                                      Lenovo Laptop   \n",
              "4                            decent but not the best   \n",
              "5                            Good and not expensive.   \n",
              "6                                         Am pleased   \n",
              "7  Warranty expired, challenging to get it activated   \n",
              "\n",
              "                                             Reviews  \n",
              "0  I am very happy with this laptop.  I bought it...  \n",
              "1  I've had two different laptops from HP and ASU...  \n",
              "2  This is my first new computer in about 7 or 8 ...  \n",
              "3  I love the size and light weight. Very fast so...  \n",
              "4  i bought this cause it said it was good for st...  \n",
              "5  This 15.6  laptop  with 20GB RAM 1TB SSD, also...  \n",
              "6  The laptop is not too heavy, has a large scree...  \n",
              "7  Yes the first couple of months - very pleased ...  "
            ],
            "text/html": [
              "\n",
              "  <div id=\"df-b6ec129a-144a-4ff5-a00e-6c53417603b7\" class=\"colab-df-container\">\n",
              "    <div>\n",
              "<style scoped>\n",
              "    .dataframe tbody tr th:only-of-type {\n",
              "        vertical-align: middle;\n",
              "    }\n",
              "\n",
              "    .dataframe tbody tr th {\n",
              "        vertical-align: top;\n",
              "    }\n",
              "\n",
              "    .dataframe thead th {\n",
              "        text-align: right;\n",
              "    }\n",
              "</style>\n",
              "<table border=\"1\" class=\"dataframe\">\n",
              "  <thead>\n",
              "    <tr style=\"text-align: right;\">\n",
              "      <th></th>\n",
              "      <th>Date of Review</th>\n",
              "      <th>Name of Reviewers</th>\n",
              "      <th>Rating out of 5</th>\n",
              "      <th>Titles of Reviews</th>\n",
              "      <th>Reviews</th>\n",
              "    </tr>\n",
              "  </thead>\n",
              "  <tbody>\n",
              "    <tr>\n",
              "      <th>0</th>\n",
              "      <td>January 27, 2024</td>\n",
              "      <td>Amazon Customer</td>\n",
              "      <td>5.0</td>\n",
              "      <td>Great laptop for the price!</td>\n",
              "      <td>I am very happy with this laptop.  I bought it...</td>\n",
              "    </tr>\n",
              "    <tr>\n",
              "      <th>1</th>\n",
              "      <td>April 8, 2023</td>\n",
              "      <td>Matthew A. Ray</td>\n",
              "      <td>5.0</td>\n",
              "      <td>Finally a laptop that runs extremely well</td>\n",
              "      <td>I've had two different laptops from HP and ASU...</td>\n",
              "    </tr>\n",
              "    <tr>\n",
              "      <th>2</th>\n",
              "      <td>November 6, 2023</td>\n",
              "      <td>larry</td>\n",
              "      <td>4.0</td>\n",
              "      <td>My new foray into Windows 11, so far so good</td>\n",
              "      <td>This is my first new computer in about 7 or 8 ...</td>\n",
              "    </tr>\n",
              "    <tr>\n",
              "      <th>3</th>\n",
              "      <td>February 1, 2024</td>\n",
              "      <td>K. Atkinson</td>\n",
              "      <td>5.0</td>\n",
              "      <td>Lenovo Laptop</td>\n",
              "      <td>I love the size and light weight. Very fast so...</td>\n",
              "    </tr>\n",
              "    <tr>\n",
              "      <th>4</th>\n",
              "      <td>January 31, 2024</td>\n",
              "      <td>anom</td>\n",
              "      <td>1.0</td>\n",
              "      <td>decent but not the best</td>\n",
              "      <td>i bought this cause it said it was good for st...</td>\n",
              "    </tr>\n",
              "    <tr>\n",
              "      <th>5</th>\n",
              "      <td>January 27, 2024</td>\n",
              "      <td>liang</td>\n",
              "      <td>5.0</td>\n",
              "      <td>Good and not expensive.</td>\n",
              "      <td>This 15.6  laptop  with 20GB RAM 1TB SSD, also...</td>\n",
              "    </tr>\n",
              "    <tr>\n",
              "      <th>6</th>\n",
              "      <td>November 15, 2023</td>\n",
              "      <td>Corinne B</td>\n",
              "      <td>5.0</td>\n",
              "      <td>Am pleased</td>\n",
              "      <td>The laptop is not too heavy, has a large scree...</td>\n",
              "    </tr>\n",
              "    <tr>\n",
              "      <th>7</th>\n",
              "      <td>December 19, 2023</td>\n",
              "      <td>Maryann Fernandez</td>\n",
              "      <td>3.0</td>\n",
              "      <td>Warranty expired, challenging to get it activated</td>\n",
              "      <td>Yes the first couple of months - very pleased ...</td>\n",
              "    </tr>\n",
              "  </tbody>\n",
              "</table>\n",
              "</div>\n",
              "    <div class=\"colab-df-buttons\">\n",
              "\n",
              "  <div class=\"colab-df-container\">\n",
              "    <button class=\"colab-df-convert\" onclick=\"convertToInteractive('df-b6ec129a-144a-4ff5-a00e-6c53417603b7')\"\n",
              "            title=\"Convert this dataframe to an interactive table.\"\n",
              "            style=\"display:none;\">\n",
              "\n",
              "  <svg xmlns=\"http://www.w3.org/2000/svg\" height=\"24px\" viewBox=\"0 -960 960 960\">\n",
              "    <path d=\"M120-120v-720h720v720H120Zm60-500h600v-160H180v160Zm220 220h160v-160H400v160Zm0 220h160v-160H400v160ZM180-400h160v-160H180v160Zm440 0h160v-160H620v160ZM180-180h160v-160H180v160Zm440 0h160v-160H620v160Z\"/>\n",
              "  </svg>\n",
              "    </button>\n",
              "\n",
              "  <style>\n",
              "    .colab-df-container {\n",
              "      display:flex;\n",
              "      gap: 12px;\n",
              "    }\n",
              "\n",
              "    .colab-df-convert {\n",
              "      background-color: #E8F0FE;\n",
              "      border: none;\n",
              "      border-radius: 50%;\n",
              "      cursor: pointer;\n",
              "      display: none;\n",
              "      fill: #1967D2;\n",
              "      height: 32px;\n",
              "      padding: 0 0 0 0;\n",
              "      width: 32px;\n",
              "    }\n",
              "\n",
              "    .colab-df-convert:hover {\n",
              "      background-color: #E2EBFA;\n",
              "      box-shadow: 0px 1px 2px rgba(60, 64, 67, 0.3), 0px 1px 3px 1px rgba(60, 64, 67, 0.15);\n",
              "      fill: #174EA6;\n",
              "    }\n",
              "\n",
              "    .colab-df-buttons div {\n",
              "      margin-bottom: 4px;\n",
              "    }\n",
              "\n",
              "    [theme=dark] .colab-df-convert {\n",
              "      background-color: #3B4455;\n",
              "      fill: #D2E3FC;\n",
              "    }\n",
              "\n",
              "    [theme=dark] .colab-df-convert:hover {\n",
              "      background-color: #434B5C;\n",
              "      box-shadow: 0px 1px 3px 1px rgba(0, 0, 0, 0.15);\n",
              "      filter: drop-shadow(0px 1px 2px rgba(0, 0, 0, 0.3));\n",
              "      fill: #FFFFFF;\n",
              "    }\n",
              "  </style>\n",
              "\n",
              "    <script>\n",
              "      const buttonEl =\n",
              "        document.querySelector('#df-b6ec129a-144a-4ff5-a00e-6c53417603b7 button.colab-df-convert');\n",
              "      buttonEl.style.display =\n",
              "        google.colab.kernel.accessAllowed ? 'block' : 'none';\n",
              "\n",
              "      async function convertToInteractive(key) {\n",
              "        const element = document.querySelector('#df-b6ec129a-144a-4ff5-a00e-6c53417603b7');\n",
              "        const dataTable =\n",
              "          await google.colab.kernel.invokeFunction('convertToInteractive',\n",
              "                                                    [key], {});\n",
              "        if (!dataTable) return;\n",
              "\n",
              "        const docLinkHtml = 'Like what you see? Visit the ' +\n",
              "          '<a target=\"_blank\" href=https://colab.research.google.com/notebooks/data_table.ipynb>data table notebook</a>'\n",
              "          + ' to learn more about interactive tables.';\n",
              "        element.innerHTML = '';\n",
              "        dataTable['output_type'] = 'display_data';\n",
              "        await google.colab.output.renderOutput(dataTable, element);\n",
              "        const docLink = document.createElement('div');\n",
              "        docLink.innerHTML = docLinkHtml;\n",
              "        element.appendChild(docLink);\n",
              "      }\n",
              "    </script>\n",
              "  </div>\n",
              "\n",
              "\n",
              "<div id=\"df-3ac17ce7-00e1-4d68-8651-5c585c7ee422\">\n",
              "  <button class=\"colab-df-quickchart\" onclick=\"quickchart('df-3ac17ce7-00e1-4d68-8651-5c585c7ee422')\"\n",
              "            title=\"Suggest charts\"\n",
              "            style=\"display:none;\">\n",
              "\n",
              "<svg xmlns=\"http://www.w3.org/2000/svg\" height=\"24px\"viewBox=\"0 0 24 24\"\n",
              "     width=\"24px\">\n",
              "    <g>\n",
              "        <path d=\"M19 3H5c-1.1 0-2 .9-2 2v14c0 1.1.9 2 2 2h14c1.1 0 2-.9 2-2V5c0-1.1-.9-2-2-2zM9 17H7v-7h2v7zm4 0h-2V7h2v10zm4 0h-2v-4h2v4z\"/>\n",
              "    </g>\n",
              "</svg>\n",
              "  </button>\n",
              "\n",
              "<style>\n",
              "  .colab-df-quickchart {\n",
              "      --bg-color: #E8F0FE;\n",
              "      --fill-color: #1967D2;\n",
              "      --hover-bg-color: #E2EBFA;\n",
              "      --hover-fill-color: #174EA6;\n",
              "      --disabled-fill-color: #AAA;\n",
              "      --disabled-bg-color: #DDD;\n",
              "  }\n",
              "\n",
              "  [theme=dark] .colab-df-quickchart {\n",
              "      --bg-color: #3B4455;\n",
              "      --fill-color: #D2E3FC;\n",
              "      --hover-bg-color: #434B5C;\n",
              "      --hover-fill-color: #FFFFFF;\n",
              "      --disabled-bg-color: #3B4455;\n",
              "      --disabled-fill-color: #666;\n",
              "  }\n",
              "\n",
              "  .colab-df-quickchart {\n",
              "    background-color: var(--bg-color);\n",
              "    border: none;\n",
              "    border-radius: 50%;\n",
              "    cursor: pointer;\n",
              "    display: none;\n",
              "    fill: var(--fill-color);\n",
              "    height: 32px;\n",
              "    padding: 0;\n",
              "    width: 32px;\n",
              "  }\n",
              "\n",
              "  .colab-df-quickchart:hover {\n",
              "    background-color: var(--hover-bg-color);\n",
              "    box-shadow: 0 1px 2px rgba(60, 64, 67, 0.3), 0 1px 3px 1px rgba(60, 64, 67, 0.15);\n",
              "    fill: var(--button-hover-fill-color);\n",
              "  }\n",
              "\n",
              "  .colab-df-quickchart-complete:disabled,\n",
              "  .colab-df-quickchart-complete:disabled:hover {\n",
              "    background-color: var(--disabled-bg-color);\n",
              "    fill: var(--disabled-fill-color);\n",
              "    box-shadow: none;\n",
              "  }\n",
              "\n",
              "  .colab-df-spinner {\n",
              "    border: 2px solid var(--fill-color);\n",
              "    border-color: transparent;\n",
              "    border-bottom-color: var(--fill-color);\n",
              "    animation:\n",
              "      spin 1s steps(1) infinite;\n",
              "  }\n",
              "\n",
              "  @keyframes spin {\n",
              "    0% {\n",
              "      border-color: transparent;\n",
              "      border-bottom-color: var(--fill-color);\n",
              "      border-left-color: var(--fill-color);\n",
              "    }\n",
              "    20% {\n",
              "      border-color: transparent;\n",
              "      border-left-color: var(--fill-color);\n",
              "      border-top-color: var(--fill-color);\n",
              "    }\n",
              "    30% {\n",
              "      border-color: transparent;\n",
              "      border-left-color: var(--fill-color);\n",
              "      border-top-color: var(--fill-color);\n",
              "      border-right-color: var(--fill-color);\n",
              "    }\n",
              "    40% {\n",
              "      border-color: transparent;\n",
              "      border-right-color: var(--fill-color);\n",
              "      border-top-color: var(--fill-color);\n",
              "    }\n",
              "    60% {\n",
              "      border-color: transparent;\n",
              "      border-right-color: var(--fill-color);\n",
              "    }\n",
              "    80% {\n",
              "      border-color: transparent;\n",
              "      border-right-color: var(--fill-color);\n",
              "      border-bottom-color: var(--fill-color);\n",
              "    }\n",
              "    90% {\n",
              "      border-color: transparent;\n",
              "      border-bottom-color: var(--fill-color);\n",
              "    }\n",
              "  }\n",
              "</style>\n",
              "\n",
              "  <script>\n",
              "    async function quickchart(key) {\n",
              "      const quickchartButtonEl =\n",
              "        document.querySelector('#' + key + ' button');\n",
              "      quickchartButtonEl.disabled = true;  // To prevent multiple clicks.\n",
              "      quickchartButtonEl.classList.add('colab-df-spinner');\n",
              "      try {\n",
              "        const charts = await google.colab.kernel.invokeFunction(\n",
              "            'suggestCharts', [key], {});\n",
              "      } catch (error) {\n",
              "        console.error('Error during call to suggestCharts:', error);\n",
              "      }\n",
              "      quickchartButtonEl.classList.remove('colab-df-spinner');\n",
              "      quickchartButtonEl.classList.add('colab-df-quickchart-complete');\n",
              "    }\n",
              "    (() => {\n",
              "      let quickchartButtonEl =\n",
              "        document.querySelector('#df-3ac17ce7-00e1-4d68-8651-5c585c7ee422 button');\n",
              "      quickchartButtonEl.style.display =\n",
              "        google.colab.kernel.accessAllowed ? 'block' : 'none';\n",
              "    })();\n",
              "  </script>\n",
              "</div>\n",
              "\n",
              "  <div id=\"id_0af2277d-e08f-4109-9e28-245bfcb91733\">\n",
              "    <style>\n",
              "      .colab-df-generate {\n",
              "        background-color: #E8F0FE;\n",
              "        border: none;\n",
              "        border-radius: 50%;\n",
              "        cursor: pointer;\n",
              "        display: none;\n",
              "        fill: #1967D2;\n",
              "        height: 32px;\n",
              "        padding: 0 0 0 0;\n",
              "        width: 32px;\n",
              "      }\n",
              "\n",
              "      .colab-df-generate:hover {\n",
              "        background-color: #E2EBFA;\n",
              "        box-shadow: 0px 1px 2px rgba(60, 64, 67, 0.3), 0px 1px 3px 1px rgba(60, 64, 67, 0.15);\n",
              "        fill: #174EA6;\n",
              "      }\n",
              "\n",
              "      [theme=dark] .colab-df-generate {\n",
              "        background-color: #3B4455;\n",
              "        fill: #D2E3FC;\n",
              "      }\n",
              "\n",
              "      [theme=dark] .colab-df-generate:hover {\n",
              "        background-color: #434B5C;\n",
              "        box-shadow: 0px 1px 3px 1px rgba(0, 0, 0, 0.15);\n",
              "        filter: drop-shadow(0px 1px 2px rgba(0, 0, 0, 0.3));\n",
              "        fill: #FFFFFF;\n",
              "      }\n",
              "    </style>\n",
              "    <button class=\"colab-df-generate\" onclick=\"generateWithVariable('df')\"\n",
              "            title=\"Generate code using this dataframe.\"\n",
              "            style=\"display:none;\">\n",
              "\n",
              "  <svg xmlns=\"http://www.w3.org/2000/svg\" height=\"24px\"viewBox=\"0 0 24 24\"\n",
              "       width=\"24px\">\n",
              "    <path d=\"M7,19H8.4L18.45,9,17,7.55,7,17.6ZM5,21V16.75L18.45,3.32a2,2,0,0,1,2.83,0l1.4,1.43a1.91,1.91,0,0,1,.58,1.4,1.91,1.91,0,0,1-.58,1.4L9.25,21ZM18.45,9,17,7.55Zm-12,3A5.31,5.31,0,0,0,4.9,8.1,5.31,5.31,0,0,0,1,6.5,5.31,5.31,0,0,0,4.9,4.9,5.31,5.31,0,0,0,6.5,1,5.31,5.31,0,0,0,8.1,4.9,5.31,5.31,0,0,0,12,6.5,5.46,5.46,0,0,0,6.5,12Z\"/>\n",
              "  </svg>\n",
              "    </button>\n",
              "    <script>\n",
              "      (() => {\n",
              "      const buttonEl =\n",
              "        document.querySelector('#id_0af2277d-e08f-4109-9e28-245bfcb91733 button.colab-df-generate');\n",
              "      buttonEl.style.display =\n",
              "        google.colab.kernel.accessAllowed ? 'block' : 'none';\n",
              "\n",
              "      buttonEl.onclick = () => {\n",
              "        google.colab.notebook.generateWithVariable('df');\n",
              "      }\n",
              "      })();\n",
              "    </script>\n",
              "  </div>\n",
              "\n",
              "    </div>\n",
              "  </div>\n"
            ],
            "application/vnd.google.colaboratory.intrinsic+json": {
              "type": "dataframe",
              "variable_name": "df",
              "summary": "{\n  \"name\": \"df\",\n  \"rows\": 8,\n  \"fields\": [\n    {\n      \"column\": \"Date of Review\",\n      \"properties\": {\n        \"dtype\": \"object\",\n        \"min\": \"April 8, 2023\",\n        \"max\": \"November 6, 2023\",\n        \"samples\": [\n          \"January 27, 2024\",\n          \"April 8, 2023\",\n          \"November 15, 2023\"\n        ],\n        \"num_unique_values\": 7,\n        \"semantic_type\": \"\",\n        \"description\": \"\"\n      }\n    },\n    {\n      \"column\": \"Name of Reviewers\",\n      \"properties\": {\n        \"dtype\": \"string\",\n        \"samples\": [\n          \"Matthew A. Ray\",\n          \"liang\",\n          \"Amazon Customer\"\n        ],\n        \"num_unique_values\": 8,\n        \"semantic_type\": \"\",\n        \"description\": \"\"\n      }\n    },\n    {\n      \"column\": \"Rating out of 5\",\n      \"properties\": {\n        \"dtype\": \"number\",\n        \"std\": 1.4577379737113252,\n        \"min\": 1.0,\n        \"max\": 5.0,\n        \"samples\": [\n          4.0,\n          3.0,\n          5.0\n        ],\n        \"num_unique_values\": 4,\n        \"semantic_type\": \"\",\n        \"description\": \"\"\n      }\n    },\n    {\n      \"column\": \"Titles of Reviews\",\n      \"properties\": {\n        \"dtype\": \"string\",\n        \"samples\": [\n          \"Finally a laptop that runs extremely well\",\n          \"Good and not expensive.\",\n          \"Great laptop for the price!\"\n        ],\n        \"num_unique_values\": 8,\n        \"semantic_type\": \"\",\n        \"description\": \"\"\n      }\n    },\n    {\n      \"column\": \"Reviews\",\n      \"properties\": {\n        \"dtype\": \"string\",\n        \"samples\": [\n          \"I've had two different laptops from HP and ASUS  that ran extremely bad. They were junk new out of the box. This laptop from Lenovo runs very fast and smooth. Very fast boot up and fast opening the browser and other websites . What I did find out is the windows 11 is very difficult to use. It won't allow me to download printer programs from cannon.com. it makes me really mad that Microsoft stopped this low to prevent downloading programs you need for your printer. Microsoft says use their store to get needed programs. I tried that and still failed. Now I'm faced calling Microsoft for help and I shouldn't have to do that. To me windows 11 is a worthless program. The computer itself is really great. In the end, what it amounts to is Microsoft holds your computer at ransom . Apple doesn't use this tactic from what I've read about Mac computers. Mac computers has several programs that are used to scan anything you download. Why doesn't Microsoft provide the protections when you need to download from the internet instead of their store. Microsoft store diffenatly does not have everything you need in their store. Generic software drivers do not work for everyone and generic software is not the same as factory software that comes with the hardware you use to print / scan or copy. Microsoft also slowed down my laptop when I shut off the S software for security . If Microsoft offered everything under the sun people need for their laptops then they would not need to resort such tactics like threatening to slow down your computer.\",\n          \"This 15.6  laptop  with 20GB RAM 1TB SSD, also with1 year Microsoft office 365 and so on,  are all good for me. I can save or store a lot of documents. With microsoft 365, I can easily star work immediatly, also the price good, I like it. So I immediately order it. Thank you! (Goshang)\",\n          \"I am very happy with this laptop.  I bought it for my daughter.  I didn't realize it came with Microsoft Windows S, which is a more secure version of the operating system and only allows you to install apps from the Microsoft Store.  There are some who would not enjoy this, but for our purposes, this is perfect.  I feel safer knowing that the applications I am installing have been vetted by Microsoft before I install them.  I think this is the perfect laptop to purchase for someone who is less technical and doesn't understand the importance of not clicking and installing everything under the sun.The laptop itself came with a Terrabyte of disk space (almost unheard of these days in lower priced laptops) and 20 Gigs of RAM (way more than usual in laptops of this price).I would purchase another of these in a heartbeat, if I needed to.\"\n        ],\n        \"num_unique_values\": 8,\n        \"semantic_type\": \"\",\n        \"description\": \"\"\n      }\n    }\n  ]\n}"
            }
          },
          "metadata": {},
          "execution_count": 71
        }
      ]
    },
    {
      "cell_type": "code",
      "source": [
        "df.Reviews[0]"
      ],
      "metadata": {
        "colab": {
          "base_uri": "https://localhost:8080/",
          "height": 157
        },
        "id": "paRJw4ldfxT_",
        "outputId": "739e67c9-a483-4984-db48-2075862a3b80"
      },
      "execution_count": 72,
      "outputs": [
        {
          "output_type": "execute_result",
          "data": {
            "text/plain": [
              "\"I am very happy with this laptop.  I bought it for my daughter.  I didn't realize it came with Microsoft Windows S, which is a more secure version of the operating system and only allows you to install apps from the Microsoft Store.  There are some who would not enjoy this, but for our purposes, this is perfect.  I feel safer knowing that the applications I am installing have been vetted by Microsoft before I install them.  I think this is the perfect laptop to purchase for someone who is less technical and doesn't understand the importance of not clicking and installing everything under the sun.The laptop itself came with a Terrabyte of disk space (almost unheard of these days in lower priced laptops) and 20 Gigs of RAM (way more than usual in laptops of this price).I would purchase another of these in a heartbeat, if I needed to.\""
            ],
            "application/vnd.google.colaboratory.intrinsic+json": {
              "type": "string"
            }
          },
          "metadata": {},
          "execution_count": 72
        }
      ]
    },
    {
      "cell_type": "markdown",
      "source": [
        "# **Extracting data from all the pages into a df**"
      ],
      "metadata": {
        "id": "9m7twdxf7WeP"
      }
    },
    {
      "cell_type": "code",
      "source": [
        "dates_list = []\n",
        "cust_name = []\n",
        "star_text = []\n",
        "titles1 = []\n",
        "reviews = []\n",
        "\n",
        "for page in range(1, 6):\n",
        "    url = 'https://www.amazon.com/Lenovo-IdeaPad-Laptop-Microsoft-Quad-Core/dp/B0BY5VQGSR/ref=sr_1_1_sspa?crid=DCXTSGQQYXP8&keywords=laptop&qid=1707611587&sprefix=laptop%2Caps%2C116&sr=8-1-spons&sp_csd=d2lkZ2V0TmFtZT1zcF9hdGY&th=' + str(page)\n",
        "\n",
        "    my_url = requests.get(url)\n",
        "    if str(my_url) == \"<Response [200]>\":\n",
        "        soup = BeautifulSoup(my_url.content, 'html.parser')\n",
        "\n",
        "        date_spans = soup.find_all('span', {'data-hook': 'review-date'})#list of 8 tags\n",
        "        reviewers = soup.find_all('span', class_='a-profile-name')#list of 8 tags\n",
        "        ratings = soup.select('i.review-rating span.a-icon-alt')#list of 8 tags\n",
        "        titles = soup.select('a.review-title span:nth-of-type(2)')#list of 8 tags\n",
        "        review_spans = soup.find_all('span', {'data-hook': 'review-body'})#list of 8 tags\n",
        "\n",
        "        for i in range(len(date_spans)):#i=0 means first tag in the list of tags\n",
        "            dates_list.append(date_spans[i].get_text()[33:])\n",
        "            cust_name.append(reviewers[i].get_text())\n",
        "            star_text.append(float(ratings[i].get_text()[0:3]))\n",
        "            titles1.append(titles[i].get_text())\n",
        "\n",
        "            # Extract review from the first child span tag\n",
        "            review_child_spans = review_spans[i].find_all('span')\n",
        "            if review_child_spans:\n",
        "                reviews.append(review_child_spans[0].get_text().strip())\n",
        "            else:\n",
        "                reviews.append(\"\")  # Handle case where no review found\n"
      ],
      "metadata": {
        "id": "9YKfj-g25s1U"
      },
      "execution_count": 95,
      "outputs": []
    },
    {
      "cell_type": "code",
      "source": [
        "df=pd.DataFrame({'Date of Review':dates_list,'Name of Reviewers':cust_name,'Rating out of 5':star_text,'Titles of Reviews':titles1,'Reviews':reviews})"
      ],
      "metadata": {
        "id": "sBVOs-GWzI9i"
      },
      "execution_count": 96,
      "outputs": []
    },
    {
      "cell_type": "code",
      "source": [
        "df"
      ],
      "metadata": {
        "colab": {
          "base_uri": "https://localhost:8080/",
          "height": 1000
        },
        "id": "PmDF8DoyzTRr",
        "outputId": "43266cc1-207a-4a99-a299-cdef931dd56b"
      },
      "execution_count": 97,
      "outputs": [
        {
          "output_type": "execute_result",
          "data": {
            "text/plain": [
              "       Date of Review Name of Reviewers  Rating out of 5  \\\n",
              "0    January 27, 2024   Amazon Customer              5.0   \n",
              "1       April 8, 2023   Amazon Customer              5.0   \n",
              "2    November 6, 2023    Matthew A. Ray              4.0   \n",
              "3    February 1, 2024             larry              5.0   \n",
              "4    January 31, 2024       K. Atkinson              1.0   \n",
              "5    January 27, 2024   Amazon Customer              5.0   \n",
              "6   November 15, 2023              anom              5.0   \n",
              "7   December 19, 2023             liang              3.0   \n",
              "8    January 27, 2024   Amazon Customer              5.0   \n",
              "9       April 8, 2023   Amazon Customer              5.0   \n",
              "10   November 6, 2023    Matthew A. Ray              4.0   \n",
              "11   February 1, 2024             larry              5.0   \n",
              "12   January 31, 2024       K. Atkinson              1.0   \n",
              "13   January 27, 2024   Amazon Customer              5.0   \n",
              "14  November 15, 2023              anom              5.0   \n",
              "15  December 19, 2023             liang              3.0   \n",
              "16   January 27, 2024   Amazon Customer              5.0   \n",
              "17      April 8, 2023   Amazon Customer              5.0   \n",
              "18   November 6, 2023    Matthew A. Ray              4.0   \n",
              "19   February 1, 2024             larry              5.0   \n",
              "20   January 31, 2024       K. Atkinson              1.0   \n",
              "21   January 27, 2024   Amazon Customer              5.0   \n",
              "22  November 15, 2023              anom              5.0   \n",
              "23  December 19, 2023             liang              3.0   \n",
              "24   January 27, 2024   Amazon Customer              5.0   \n",
              "25      April 8, 2023   Amazon Customer              5.0   \n",
              "26   November 6, 2023    Matthew A. Ray              4.0   \n",
              "27   February 1, 2024             larry              5.0   \n",
              "28   January 31, 2024       K. Atkinson              1.0   \n",
              "29   January 27, 2024   Amazon Customer              5.0   \n",
              "30  November 15, 2023              anom              5.0   \n",
              "31  December 19, 2023             liang              3.0   \n",
              "32   January 27, 2024   Amazon Customer              5.0   \n",
              "33      April 8, 2023   Amazon Customer              5.0   \n",
              "34   November 6, 2023    Matthew A. Ray              4.0   \n",
              "35   February 1, 2024             larry              5.0   \n",
              "36   January 31, 2024       K. Atkinson              1.0   \n",
              "37   January 27, 2024   Amazon Customer              5.0   \n",
              "38  November 15, 2023              anom              5.0   \n",
              "39  December 19, 2023             liang              3.0   \n",
              "\n",
              "                                    Titles of Reviews  \\\n",
              "0                         Great laptop for the price!   \n",
              "1           Finally a laptop that runs extremely well   \n",
              "2        My new foray into Windows 11, so far so good   \n",
              "3                                       Lenovo Laptop   \n",
              "4                             decent but not the best   \n",
              "5                             Good and not expensive.   \n",
              "6                                          Am pleased   \n",
              "7   Warranty expired, challenging to get it activated   \n",
              "8                         Great laptop for the price!   \n",
              "9           Finally a laptop that runs extremely well   \n",
              "10       My new foray into Windows 11, so far so good   \n",
              "11                                      Lenovo Laptop   \n",
              "12                            decent but not the best   \n",
              "13                            Good and not expensive.   \n",
              "14                                         Am pleased   \n",
              "15  Warranty expired, challenging to get it activated   \n",
              "16                        Great laptop for the price!   \n",
              "17          Finally a laptop that runs extremely well   \n",
              "18       My new foray into Windows 11, so far so good   \n",
              "19                                      Lenovo Laptop   \n",
              "20                            decent but not the best   \n",
              "21                            Good and not expensive.   \n",
              "22                                         Am pleased   \n",
              "23  Warranty expired, challenging to get it activated   \n",
              "24                        Great laptop for the price!   \n",
              "25          Finally a laptop that runs extremely well   \n",
              "26       My new foray into Windows 11, so far so good   \n",
              "27                                      Lenovo Laptop   \n",
              "28                            decent but not the best   \n",
              "29                            Good and not expensive.   \n",
              "30                                         Am pleased   \n",
              "31  Warranty expired, challenging to get it activated   \n",
              "32                        Great laptop for the price!   \n",
              "33          Finally a laptop that runs extremely well   \n",
              "34       My new foray into Windows 11, so far so good   \n",
              "35                                      Lenovo Laptop   \n",
              "36                            decent but not the best   \n",
              "37                            Good and not expensive.   \n",
              "38                                         Am pleased   \n",
              "39  Warranty expired, challenging to get it activated   \n",
              "\n",
              "                                              Reviews  \n",
              "0   I am very happy with this laptop.  I bought it...  \n",
              "1   I've had two different laptops from HP and ASU...  \n",
              "2   This is my first new computer in about 7 or 8 ...  \n",
              "3   I love the size and light weight. Very fast so...  \n",
              "4   i bought this cause it said it was good for st...  \n",
              "5   This 15.6  laptop  with 20GB RAM 1TB SSD, also...  \n",
              "6   The laptop is not too heavy, has a large scree...  \n",
              "7   Yes the first couple of months - very pleased ...  \n",
              "8   I am very happy with this laptop.  I bought it...  \n",
              "9   I've had two different laptops from HP and ASU...  \n",
              "10  This is my first new computer in about 7 or 8 ...  \n",
              "11  I love the size and light weight. Very fast so...  \n",
              "12  i bought this cause it said it was good for st...  \n",
              "13  This 15.6  laptop  with 20GB RAM 1TB SSD, also...  \n",
              "14  The laptop is not too heavy, has a large scree...  \n",
              "15  Yes the first couple of months - very pleased ...  \n",
              "16  I am very happy with this laptop.  I bought it...  \n",
              "17  I've had two different laptops from HP and ASU...  \n",
              "18  This is my first new computer in about 7 or 8 ...  \n",
              "19  I love the size and light weight. Very fast so...  \n",
              "20  i bought this cause it said it was good for st...  \n",
              "21  This 15.6  laptop  with 20GB RAM 1TB SSD, also...  \n",
              "22  The laptop is not too heavy, has a large scree...  \n",
              "23  Yes the first couple of months - very pleased ...  \n",
              "24  I am very happy with this laptop.  I bought it...  \n",
              "25  I've had two different laptops from HP and ASU...  \n",
              "26  This is my first new computer in about 7 or 8 ...  \n",
              "27  I love the size and light weight. Very fast so...  \n",
              "28  i bought this cause it said it was good for st...  \n",
              "29  This 15.6  laptop  with 20GB RAM 1TB SSD, also...  \n",
              "30  The laptop is not too heavy, has a large scree...  \n",
              "31  Yes the first couple of months - very pleased ...  \n",
              "32  I am very happy with this laptop.  I bought it...  \n",
              "33  I've had two different laptops from HP and ASU...  \n",
              "34  This is my first new computer in about 7 or 8 ...  \n",
              "35  I love the size and light weight. Very fast so...  \n",
              "36  i bought this cause it said it was good for st...  \n",
              "37  This 15.6  laptop  with 20GB RAM 1TB SSD, also...  \n",
              "38  The laptop is not too heavy, has a large scree...  \n",
              "39  Yes the first couple of months - very pleased ...  "
            ],
            "text/html": [
              "\n",
              "  <div id=\"df-cd92352f-2a5e-4bc4-82e1-b194ff66572d\" class=\"colab-df-container\">\n",
              "    <div>\n",
              "<style scoped>\n",
              "    .dataframe tbody tr th:only-of-type {\n",
              "        vertical-align: middle;\n",
              "    }\n",
              "\n",
              "    .dataframe tbody tr th {\n",
              "        vertical-align: top;\n",
              "    }\n",
              "\n",
              "    .dataframe thead th {\n",
              "        text-align: right;\n",
              "    }\n",
              "</style>\n",
              "<table border=\"1\" class=\"dataframe\">\n",
              "  <thead>\n",
              "    <tr style=\"text-align: right;\">\n",
              "      <th></th>\n",
              "      <th>Date of Review</th>\n",
              "      <th>Name of Reviewers</th>\n",
              "      <th>Rating out of 5</th>\n",
              "      <th>Titles of Reviews</th>\n",
              "      <th>Reviews</th>\n",
              "    </tr>\n",
              "  </thead>\n",
              "  <tbody>\n",
              "    <tr>\n",
              "      <th>0</th>\n",
              "      <td>January 27, 2024</td>\n",
              "      <td>Amazon Customer</td>\n",
              "      <td>5.0</td>\n",
              "      <td>Great laptop for the price!</td>\n",
              "      <td>I am very happy with this laptop.  I bought it...</td>\n",
              "    </tr>\n",
              "    <tr>\n",
              "      <th>1</th>\n",
              "      <td>April 8, 2023</td>\n",
              "      <td>Amazon Customer</td>\n",
              "      <td>5.0</td>\n",
              "      <td>Finally a laptop that runs extremely well</td>\n",
              "      <td>I've had two different laptops from HP and ASU...</td>\n",
              "    </tr>\n",
              "    <tr>\n",
              "      <th>2</th>\n",
              "      <td>November 6, 2023</td>\n",
              "      <td>Matthew A. Ray</td>\n",
              "      <td>4.0</td>\n",
              "      <td>My new foray into Windows 11, so far so good</td>\n",
              "      <td>This is my first new computer in about 7 or 8 ...</td>\n",
              "    </tr>\n",
              "    <tr>\n",
              "      <th>3</th>\n",
              "      <td>February 1, 2024</td>\n",
              "      <td>larry</td>\n",
              "      <td>5.0</td>\n",
              "      <td>Lenovo Laptop</td>\n",
              "      <td>I love the size and light weight. Very fast so...</td>\n",
              "    </tr>\n",
              "    <tr>\n",
              "      <th>4</th>\n",
              "      <td>January 31, 2024</td>\n",
              "      <td>K. Atkinson</td>\n",
              "      <td>1.0</td>\n",
              "      <td>decent but not the best</td>\n",
              "      <td>i bought this cause it said it was good for st...</td>\n",
              "    </tr>\n",
              "    <tr>\n",
              "      <th>5</th>\n",
              "      <td>January 27, 2024</td>\n",
              "      <td>Amazon Customer</td>\n",
              "      <td>5.0</td>\n",
              "      <td>Good and not expensive.</td>\n",
              "      <td>This 15.6  laptop  with 20GB RAM 1TB SSD, also...</td>\n",
              "    </tr>\n",
              "    <tr>\n",
              "      <th>6</th>\n",
              "      <td>November 15, 2023</td>\n",
              "      <td>anom</td>\n",
              "      <td>5.0</td>\n",
              "      <td>Am pleased</td>\n",
              "      <td>The laptop is not too heavy, has a large scree...</td>\n",
              "    </tr>\n",
              "    <tr>\n",
              "      <th>7</th>\n",
              "      <td>December 19, 2023</td>\n",
              "      <td>liang</td>\n",
              "      <td>3.0</td>\n",
              "      <td>Warranty expired, challenging to get it activated</td>\n",
              "      <td>Yes the first couple of months - very pleased ...</td>\n",
              "    </tr>\n",
              "    <tr>\n",
              "      <th>8</th>\n",
              "      <td>January 27, 2024</td>\n",
              "      <td>Amazon Customer</td>\n",
              "      <td>5.0</td>\n",
              "      <td>Great laptop for the price!</td>\n",
              "      <td>I am very happy with this laptop.  I bought it...</td>\n",
              "    </tr>\n",
              "    <tr>\n",
              "      <th>9</th>\n",
              "      <td>April 8, 2023</td>\n",
              "      <td>Amazon Customer</td>\n",
              "      <td>5.0</td>\n",
              "      <td>Finally a laptop that runs extremely well</td>\n",
              "      <td>I've had two different laptops from HP and ASU...</td>\n",
              "    </tr>\n",
              "    <tr>\n",
              "      <th>10</th>\n",
              "      <td>November 6, 2023</td>\n",
              "      <td>Matthew A. Ray</td>\n",
              "      <td>4.0</td>\n",
              "      <td>My new foray into Windows 11, so far so good</td>\n",
              "      <td>This is my first new computer in about 7 or 8 ...</td>\n",
              "    </tr>\n",
              "    <tr>\n",
              "      <th>11</th>\n",
              "      <td>February 1, 2024</td>\n",
              "      <td>larry</td>\n",
              "      <td>5.0</td>\n",
              "      <td>Lenovo Laptop</td>\n",
              "      <td>I love the size and light weight. Very fast so...</td>\n",
              "    </tr>\n",
              "    <tr>\n",
              "      <th>12</th>\n",
              "      <td>January 31, 2024</td>\n",
              "      <td>K. Atkinson</td>\n",
              "      <td>1.0</td>\n",
              "      <td>decent but not the best</td>\n",
              "      <td>i bought this cause it said it was good for st...</td>\n",
              "    </tr>\n",
              "    <tr>\n",
              "      <th>13</th>\n",
              "      <td>January 27, 2024</td>\n",
              "      <td>Amazon Customer</td>\n",
              "      <td>5.0</td>\n",
              "      <td>Good and not expensive.</td>\n",
              "      <td>This 15.6  laptop  with 20GB RAM 1TB SSD, also...</td>\n",
              "    </tr>\n",
              "    <tr>\n",
              "      <th>14</th>\n",
              "      <td>November 15, 2023</td>\n",
              "      <td>anom</td>\n",
              "      <td>5.0</td>\n",
              "      <td>Am pleased</td>\n",
              "      <td>The laptop is not too heavy, has a large scree...</td>\n",
              "    </tr>\n",
              "    <tr>\n",
              "      <th>15</th>\n",
              "      <td>December 19, 2023</td>\n",
              "      <td>liang</td>\n",
              "      <td>3.0</td>\n",
              "      <td>Warranty expired, challenging to get it activated</td>\n",
              "      <td>Yes the first couple of months - very pleased ...</td>\n",
              "    </tr>\n",
              "    <tr>\n",
              "      <th>16</th>\n",
              "      <td>January 27, 2024</td>\n",
              "      <td>Amazon Customer</td>\n",
              "      <td>5.0</td>\n",
              "      <td>Great laptop for the price!</td>\n",
              "      <td>I am very happy with this laptop.  I bought it...</td>\n",
              "    </tr>\n",
              "    <tr>\n",
              "      <th>17</th>\n",
              "      <td>April 8, 2023</td>\n",
              "      <td>Amazon Customer</td>\n",
              "      <td>5.0</td>\n",
              "      <td>Finally a laptop that runs extremely well</td>\n",
              "      <td>I've had two different laptops from HP and ASU...</td>\n",
              "    </tr>\n",
              "    <tr>\n",
              "      <th>18</th>\n",
              "      <td>November 6, 2023</td>\n",
              "      <td>Matthew A. Ray</td>\n",
              "      <td>4.0</td>\n",
              "      <td>My new foray into Windows 11, so far so good</td>\n",
              "      <td>This is my first new computer in about 7 or 8 ...</td>\n",
              "    </tr>\n",
              "    <tr>\n",
              "      <th>19</th>\n",
              "      <td>February 1, 2024</td>\n",
              "      <td>larry</td>\n",
              "      <td>5.0</td>\n",
              "      <td>Lenovo Laptop</td>\n",
              "      <td>I love the size and light weight. Very fast so...</td>\n",
              "    </tr>\n",
              "    <tr>\n",
              "      <th>20</th>\n",
              "      <td>January 31, 2024</td>\n",
              "      <td>K. Atkinson</td>\n",
              "      <td>1.0</td>\n",
              "      <td>decent but not the best</td>\n",
              "      <td>i bought this cause it said it was good for st...</td>\n",
              "    </tr>\n",
              "    <tr>\n",
              "      <th>21</th>\n",
              "      <td>January 27, 2024</td>\n",
              "      <td>Amazon Customer</td>\n",
              "      <td>5.0</td>\n",
              "      <td>Good and not expensive.</td>\n",
              "      <td>This 15.6  laptop  with 20GB RAM 1TB SSD, also...</td>\n",
              "    </tr>\n",
              "    <tr>\n",
              "      <th>22</th>\n",
              "      <td>November 15, 2023</td>\n",
              "      <td>anom</td>\n",
              "      <td>5.0</td>\n",
              "      <td>Am pleased</td>\n",
              "      <td>The laptop is not too heavy, has a large scree...</td>\n",
              "    </tr>\n",
              "    <tr>\n",
              "      <th>23</th>\n",
              "      <td>December 19, 2023</td>\n",
              "      <td>liang</td>\n",
              "      <td>3.0</td>\n",
              "      <td>Warranty expired, challenging to get it activated</td>\n",
              "      <td>Yes the first couple of months - very pleased ...</td>\n",
              "    </tr>\n",
              "    <tr>\n",
              "      <th>24</th>\n",
              "      <td>January 27, 2024</td>\n",
              "      <td>Amazon Customer</td>\n",
              "      <td>5.0</td>\n",
              "      <td>Great laptop for the price!</td>\n",
              "      <td>I am very happy with this laptop.  I bought it...</td>\n",
              "    </tr>\n",
              "    <tr>\n",
              "      <th>25</th>\n",
              "      <td>April 8, 2023</td>\n",
              "      <td>Amazon Customer</td>\n",
              "      <td>5.0</td>\n",
              "      <td>Finally a laptop that runs extremely well</td>\n",
              "      <td>I've had two different laptops from HP and ASU...</td>\n",
              "    </tr>\n",
              "    <tr>\n",
              "      <th>26</th>\n",
              "      <td>November 6, 2023</td>\n",
              "      <td>Matthew A. Ray</td>\n",
              "      <td>4.0</td>\n",
              "      <td>My new foray into Windows 11, so far so good</td>\n",
              "      <td>This is my first new computer in about 7 or 8 ...</td>\n",
              "    </tr>\n",
              "    <tr>\n",
              "      <th>27</th>\n",
              "      <td>February 1, 2024</td>\n",
              "      <td>larry</td>\n",
              "      <td>5.0</td>\n",
              "      <td>Lenovo Laptop</td>\n",
              "      <td>I love the size and light weight. Very fast so...</td>\n",
              "    </tr>\n",
              "    <tr>\n",
              "      <th>28</th>\n",
              "      <td>January 31, 2024</td>\n",
              "      <td>K. Atkinson</td>\n",
              "      <td>1.0</td>\n",
              "      <td>decent but not the best</td>\n",
              "      <td>i bought this cause it said it was good for st...</td>\n",
              "    </tr>\n",
              "    <tr>\n",
              "      <th>29</th>\n",
              "      <td>January 27, 2024</td>\n",
              "      <td>Amazon Customer</td>\n",
              "      <td>5.0</td>\n",
              "      <td>Good and not expensive.</td>\n",
              "      <td>This 15.6  laptop  with 20GB RAM 1TB SSD, also...</td>\n",
              "    </tr>\n",
              "    <tr>\n",
              "      <th>30</th>\n",
              "      <td>November 15, 2023</td>\n",
              "      <td>anom</td>\n",
              "      <td>5.0</td>\n",
              "      <td>Am pleased</td>\n",
              "      <td>The laptop is not too heavy, has a large scree...</td>\n",
              "    </tr>\n",
              "    <tr>\n",
              "      <th>31</th>\n",
              "      <td>December 19, 2023</td>\n",
              "      <td>liang</td>\n",
              "      <td>3.0</td>\n",
              "      <td>Warranty expired, challenging to get it activated</td>\n",
              "      <td>Yes the first couple of months - very pleased ...</td>\n",
              "    </tr>\n",
              "    <tr>\n",
              "      <th>32</th>\n",
              "      <td>January 27, 2024</td>\n",
              "      <td>Amazon Customer</td>\n",
              "      <td>5.0</td>\n",
              "      <td>Great laptop for the price!</td>\n",
              "      <td>I am very happy with this laptop.  I bought it...</td>\n",
              "    </tr>\n",
              "    <tr>\n",
              "      <th>33</th>\n",
              "      <td>April 8, 2023</td>\n",
              "      <td>Amazon Customer</td>\n",
              "      <td>5.0</td>\n",
              "      <td>Finally a laptop that runs extremely well</td>\n",
              "      <td>I've had two different laptops from HP and ASU...</td>\n",
              "    </tr>\n",
              "    <tr>\n",
              "      <th>34</th>\n",
              "      <td>November 6, 2023</td>\n",
              "      <td>Matthew A. Ray</td>\n",
              "      <td>4.0</td>\n",
              "      <td>My new foray into Windows 11, so far so good</td>\n",
              "      <td>This is my first new computer in about 7 or 8 ...</td>\n",
              "    </tr>\n",
              "    <tr>\n",
              "      <th>35</th>\n",
              "      <td>February 1, 2024</td>\n",
              "      <td>larry</td>\n",
              "      <td>5.0</td>\n",
              "      <td>Lenovo Laptop</td>\n",
              "      <td>I love the size and light weight. Very fast so...</td>\n",
              "    </tr>\n",
              "    <tr>\n",
              "      <th>36</th>\n",
              "      <td>January 31, 2024</td>\n",
              "      <td>K. Atkinson</td>\n",
              "      <td>1.0</td>\n",
              "      <td>decent but not the best</td>\n",
              "      <td>i bought this cause it said it was good for st...</td>\n",
              "    </tr>\n",
              "    <tr>\n",
              "      <th>37</th>\n",
              "      <td>January 27, 2024</td>\n",
              "      <td>Amazon Customer</td>\n",
              "      <td>5.0</td>\n",
              "      <td>Good and not expensive.</td>\n",
              "      <td>This 15.6  laptop  with 20GB RAM 1TB SSD, also...</td>\n",
              "    </tr>\n",
              "    <tr>\n",
              "      <th>38</th>\n",
              "      <td>November 15, 2023</td>\n",
              "      <td>anom</td>\n",
              "      <td>5.0</td>\n",
              "      <td>Am pleased</td>\n",
              "      <td>The laptop is not too heavy, has a large scree...</td>\n",
              "    </tr>\n",
              "    <tr>\n",
              "      <th>39</th>\n",
              "      <td>December 19, 2023</td>\n",
              "      <td>liang</td>\n",
              "      <td>3.0</td>\n",
              "      <td>Warranty expired, challenging to get it activated</td>\n",
              "      <td>Yes the first couple of months - very pleased ...</td>\n",
              "    </tr>\n",
              "  </tbody>\n",
              "</table>\n",
              "</div>\n",
              "    <div class=\"colab-df-buttons\">\n",
              "\n",
              "  <div class=\"colab-df-container\">\n",
              "    <button class=\"colab-df-convert\" onclick=\"convertToInteractive('df-cd92352f-2a5e-4bc4-82e1-b194ff66572d')\"\n",
              "            title=\"Convert this dataframe to an interactive table.\"\n",
              "            style=\"display:none;\">\n",
              "\n",
              "  <svg xmlns=\"http://www.w3.org/2000/svg\" height=\"24px\" viewBox=\"0 -960 960 960\">\n",
              "    <path d=\"M120-120v-720h720v720H120Zm60-500h600v-160H180v160Zm220 220h160v-160H400v160Zm0 220h160v-160H400v160ZM180-400h160v-160H180v160Zm440 0h160v-160H620v160ZM180-180h160v-160H180v160Zm440 0h160v-160H620v160Z\"/>\n",
              "  </svg>\n",
              "    </button>\n",
              "\n",
              "  <style>\n",
              "    .colab-df-container {\n",
              "      display:flex;\n",
              "      gap: 12px;\n",
              "    }\n",
              "\n",
              "    .colab-df-convert {\n",
              "      background-color: #E8F0FE;\n",
              "      border: none;\n",
              "      border-radius: 50%;\n",
              "      cursor: pointer;\n",
              "      display: none;\n",
              "      fill: #1967D2;\n",
              "      height: 32px;\n",
              "      padding: 0 0 0 0;\n",
              "      width: 32px;\n",
              "    }\n",
              "\n",
              "    .colab-df-convert:hover {\n",
              "      background-color: #E2EBFA;\n",
              "      box-shadow: 0px 1px 2px rgba(60, 64, 67, 0.3), 0px 1px 3px 1px rgba(60, 64, 67, 0.15);\n",
              "      fill: #174EA6;\n",
              "    }\n",
              "\n",
              "    .colab-df-buttons div {\n",
              "      margin-bottom: 4px;\n",
              "    }\n",
              "\n",
              "    [theme=dark] .colab-df-convert {\n",
              "      background-color: #3B4455;\n",
              "      fill: #D2E3FC;\n",
              "    }\n",
              "\n",
              "    [theme=dark] .colab-df-convert:hover {\n",
              "      background-color: #434B5C;\n",
              "      box-shadow: 0px 1px 3px 1px rgba(0, 0, 0, 0.15);\n",
              "      filter: drop-shadow(0px 1px 2px rgba(0, 0, 0, 0.3));\n",
              "      fill: #FFFFFF;\n",
              "    }\n",
              "  </style>\n",
              "\n",
              "    <script>\n",
              "      const buttonEl =\n",
              "        document.querySelector('#df-cd92352f-2a5e-4bc4-82e1-b194ff66572d button.colab-df-convert');\n",
              "      buttonEl.style.display =\n",
              "        google.colab.kernel.accessAllowed ? 'block' : 'none';\n",
              "\n",
              "      async function convertToInteractive(key) {\n",
              "        const element = document.querySelector('#df-cd92352f-2a5e-4bc4-82e1-b194ff66572d');\n",
              "        const dataTable =\n",
              "          await google.colab.kernel.invokeFunction('convertToInteractive',\n",
              "                                                    [key], {});\n",
              "        if (!dataTable) return;\n",
              "\n",
              "        const docLinkHtml = 'Like what you see? Visit the ' +\n",
              "          '<a target=\"_blank\" href=https://colab.research.google.com/notebooks/data_table.ipynb>data table notebook</a>'\n",
              "          + ' to learn more about interactive tables.';\n",
              "        element.innerHTML = '';\n",
              "        dataTable['output_type'] = 'display_data';\n",
              "        await google.colab.output.renderOutput(dataTable, element);\n",
              "        const docLink = document.createElement('div');\n",
              "        docLink.innerHTML = docLinkHtml;\n",
              "        element.appendChild(docLink);\n",
              "      }\n",
              "    </script>\n",
              "  </div>\n",
              "\n",
              "\n",
              "<div id=\"df-05e4a72b-004b-45d1-a816-72b8eb05f21c\">\n",
              "  <button class=\"colab-df-quickchart\" onclick=\"quickchart('df-05e4a72b-004b-45d1-a816-72b8eb05f21c')\"\n",
              "            title=\"Suggest charts\"\n",
              "            style=\"display:none;\">\n",
              "\n",
              "<svg xmlns=\"http://www.w3.org/2000/svg\" height=\"24px\"viewBox=\"0 0 24 24\"\n",
              "     width=\"24px\">\n",
              "    <g>\n",
              "        <path d=\"M19 3H5c-1.1 0-2 .9-2 2v14c0 1.1.9 2 2 2h14c1.1 0 2-.9 2-2V5c0-1.1-.9-2-2-2zM9 17H7v-7h2v7zm4 0h-2V7h2v10zm4 0h-2v-4h2v4z\"/>\n",
              "    </g>\n",
              "</svg>\n",
              "  </button>\n",
              "\n",
              "<style>\n",
              "  .colab-df-quickchart {\n",
              "      --bg-color: #E8F0FE;\n",
              "      --fill-color: #1967D2;\n",
              "      --hover-bg-color: #E2EBFA;\n",
              "      --hover-fill-color: #174EA6;\n",
              "      --disabled-fill-color: #AAA;\n",
              "      --disabled-bg-color: #DDD;\n",
              "  }\n",
              "\n",
              "  [theme=dark] .colab-df-quickchart {\n",
              "      --bg-color: #3B4455;\n",
              "      --fill-color: #D2E3FC;\n",
              "      --hover-bg-color: #434B5C;\n",
              "      --hover-fill-color: #FFFFFF;\n",
              "      --disabled-bg-color: #3B4455;\n",
              "      --disabled-fill-color: #666;\n",
              "  }\n",
              "\n",
              "  .colab-df-quickchart {\n",
              "    background-color: var(--bg-color);\n",
              "    border: none;\n",
              "    border-radius: 50%;\n",
              "    cursor: pointer;\n",
              "    display: none;\n",
              "    fill: var(--fill-color);\n",
              "    height: 32px;\n",
              "    padding: 0;\n",
              "    width: 32px;\n",
              "  }\n",
              "\n",
              "  .colab-df-quickchart:hover {\n",
              "    background-color: var(--hover-bg-color);\n",
              "    box-shadow: 0 1px 2px rgba(60, 64, 67, 0.3), 0 1px 3px 1px rgba(60, 64, 67, 0.15);\n",
              "    fill: var(--button-hover-fill-color);\n",
              "  }\n",
              "\n",
              "  .colab-df-quickchart-complete:disabled,\n",
              "  .colab-df-quickchart-complete:disabled:hover {\n",
              "    background-color: var(--disabled-bg-color);\n",
              "    fill: var(--disabled-fill-color);\n",
              "    box-shadow: none;\n",
              "  }\n",
              "\n",
              "  .colab-df-spinner {\n",
              "    border: 2px solid var(--fill-color);\n",
              "    border-color: transparent;\n",
              "    border-bottom-color: var(--fill-color);\n",
              "    animation:\n",
              "      spin 1s steps(1) infinite;\n",
              "  }\n",
              "\n",
              "  @keyframes spin {\n",
              "    0% {\n",
              "      border-color: transparent;\n",
              "      border-bottom-color: var(--fill-color);\n",
              "      border-left-color: var(--fill-color);\n",
              "    }\n",
              "    20% {\n",
              "      border-color: transparent;\n",
              "      border-left-color: var(--fill-color);\n",
              "      border-top-color: var(--fill-color);\n",
              "    }\n",
              "    30% {\n",
              "      border-color: transparent;\n",
              "      border-left-color: var(--fill-color);\n",
              "      border-top-color: var(--fill-color);\n",
              "      border-right-color: var(--fill-color);\n",
              "    }\n",
              "    40% {\n",
              "      border-color: transparent;\n",
              "      border-right-color: var(--fill-color);\n",
              "      border-top-color: var(--fill-color);\n",
              "    }\n",
              "    60% {\n",
              "      border-color: transparent;\n",
              "      border-right-color: var(--fill-color);\n",
              "    }\n",
              "    80% {\n",
              "      border-color: transparent;\n",
              "      border-right-color: var(--fill-color);\n",
              "      border-bottom-color: var(--fill-color);\n",
              "    }\n",
              "    90% {\n",
              "      border-color: transparent;\n",
              "      border-bottom-color: var(--fill-color);\n",
              "    }\n",
              "  }\n",
              "</style>\n",
              "\n",
              "  <script>\n",
              "    async function quickchart(key) {\n",
              "      const quickchartButtonEl =\n",
              "        document.querySelector('#' + key + ' button');\n",
              "      quickchartButtonEl.disabled = true;  // To prevent multiple clicks.\n",
              "      quickchartButtonEl.classList.add('colab-df-spinner');\n",
              "      try {\n",
              "        const charts = await google.colab.kernel.invokeFunction(\n",
              "            'suggestCharts', [key], {});\n",
              "      } catch (error) {\n",
              "        console.error('Error during call to suggestCharts:', error);\n",
              "      }\n",
              "      quickchartButtonEl.classList.remove('colab-df-spinner');\n",
              "      quickchartButtonEl.classList.add('colab-df-quickchart-complete');\n",
              "    }\n",
              "    (() => {\n",
              "      let quickchartButtonEl =\n",
              "        document.querySelector('#df-05e4a72b-004b-45d1-a816-72b8eb05f21c button');\n",
              "      quickchartButtonEl.style.display =\n",
              "        google.colab.kernel.accessAllowed ? 'block' : 'none';\n",
              "    })();\n",
              "  </script>\n",
              "</div>\n",
              "\n",
              "  <div id=\"id_50b1aa41-f02b-4912-8ba9-889af2769d2d\">\n",
              "    <style>\n",
              "      .colab-df-generate {\n",
              "        background-color: #E8F0FE;\n",
              "        border: none;\n",
              "        border-radius: 50%;\n",
              "        cursor: pointer;\n",
              "        display: none;\n",
              "        fill: #1967D2;\n",
              "        height: 32px;\n",
              "        padding: 0 0 0 0;\n",
              "        width: 32px;\n",
              "      }\n",
              "\n",
              "      .colab-df-generate:hover {\n",
              "        background-color: #E2EBFA;\n",
              "        box-shadow: 0px 1px 2px rgba(60, 64, 67, 0.3), 0px 1px 3px 1px rgba(60, 64, 67, 0.15);\n",
              "        fill: #174EA6;\n",
              "      }\n",
              "\n",
              "      [theme=dark] .colab-df-generate {\n",
              "        background-color: #3B4455;\n",
              "        fill: #D2E3FC;\n",
              "      }\n",
              "\n",
              "      [theme=dark] .colab-df-generate:hover {\n",
              "        background-color: #434B5C;\n",
              "        box-shadow: 0px 1px 3px 1px rgba(0, 0, 0, 0.15);\n",
              "        filter: drop-shadow(0px 1px 2px rgba(0, 0, 0, 0.3));\n",
              "        fill: #FFFFFF;\n",
              "      }\n",
              "    </style>\n",
              "    <button class=\"colab-df-generate\" onclick=\"generateWithVariable('df')\"\n",
              "            title=\"Generate code using this dataframe.\"\n",
              "            style=\"display:none;\">\n",
              "\n",
              "  <svg xmlns=\"http://www.w3.org/2000/svg\" height=\"24px\"viewBox=\"0 0 24 24\"\n",
              "       width=\"24px\">\n",
              "    <path d=\"M7,19H8.4L18.45,9,17,7.55,7,17.6ZM5,21V16.75L18.45,3.32a2,2,0,0,1,2.83,0l1.4,1.43a1.91,1.91,0,0,1,.58,1.4,1.91,1.91,0,0,1-.58,1.4L9.25,21ZM18.45,9,17,7.55Zm-12,3A5.31,5.31,0,0,0,4.9,8.1,5.31,5.31,0,0,0,1,6.5,5.31,5.31,0,0,0,4.9,4.9,5.31,5.31,0,0,0,6.5,1,5.31,5.31,0,0,0,8.1,4.9,5.31,5.31,0,0,0,12,6.5,5.46,5.46,0,0,0,6.5,12Z\"/>\n",
              "  </svg>\n",
              "    </button>\n",
              "    <script>\n",
              "      (() => {\n",
              "      const buttonEl =\n",
              "        document.querySelector('#id_50b1aa41-f02b-4912-8ba9-889af2769d2d button.colab-df-generate');\n",
              "      buttonEl.style.display =\n",
              "        google.colab.kernel.accessAllowed ? 'block' : 'none';\n",
              "\n",
              "      buttonEl.onclick = () => {\n",
              "        google.colab.notebook.generateWithVariable('df');\n",
              "      }\n",
              "      })();\n",
              "    </script>\n",
              "  </div>\n",
              "\n",
              "    </div>\n",
              "  </div>\n"
            ],
            "application/vnd.google.colaboratory.intrinsic+json": {
              "type": "dataframe",
              "variable_name": "df",
              "summary": "{\n  \"name\": \"df\",\n  \"rows\": 40,\n  \"fields\": [\n    {\n      \"column\": \"Date of Review\",\n      \"properties\": {\n        \"dtype\": \"object\",\n        \"min\": \"April 8, 2023\",\n        \"max\": \"November 6, 2023\",\n        \"samples\": [\n          \"January 27, 2024\",\n          \"April 8, 2023\",\n          \"November 15, 2023\"\n        ],\n        \"num_unique_values\": 7,\n        \"semantic_type\": \"\",\n        \"description\": \"\"\n      }\n    },\n    {\n      \"column\": \"Name of Reviewers\",\n      \"properties\": {\n        \"dtype\": \"category\",\n        \"samples\": [\n          \"Amazon Customer\",\n          \"Matthew A. Ray\",\n          \"liang\"\n        ],\n        \"num_unique_values\": 6,\n        \"semantic_type\": \"\",\n        \"description\": \"\"\n      }\n    },\n    {\n      \"column\": \"Rating out of 5\",\n      \"properties\": {\n        \"dtype\": \"number\",\n        \"std\": 1.3809602753342625,\n        \"min\": 1.0,\n        \"max\": 5.0,\n        \"samples\": [\n          4.0,\n          3.0,\n          5.0\n        ],\n        \"num_unique_values\": 4,\n        \"semantic_type\": \"\",\n        \"description\": \"\"\n      }\n    },\n    {\n      \"column\": \"Titles of Reviews\",\n      \"properties\": {\n        \"dtype\": \"category\",\n        \"samples\": [\n          \"Finally a laptop that runs extremely well\",\n          \"Good and not expensive.\",\n          \"Great laptop for the price!\"\n        ],\n        \"num_unique_values\": 8,\n        \"semantic_type\": \"\",\n        \"description\": \"\"\n      }\n    },\n    {\n      \"column\": \"Reviews\",\n      \"properties\": {\n        \"dtype\": \"category\",\n        \"samples\": [\n          \"I've had two different laptops from HP and ASUS  that ran extremely bad. They were junk new out of the box. This laptop from Lenovo runs very fast and smooth. Very fast boot up and fast opening the browser and other websites . What I did find out is the windows 11 is very difficult to use. It won't allow me to download printer programs from cannon.com. it makes me really mad that Microsoft stopped this low to prevent downloading programs you need for your printer. Microsoft says use their store to get needed programs. I tried that and still failed. Now I'm faced calling Microsoft for help and I shouldn't have to do that. To me windows 11 is a worthless program. The computer itself is really great. In the end, what it amounts to is Microsoft holds your computer at ransom . Apple doesn't use this tactic from what I've read about Mac computers. Mac computers has several programs that are used to scan anything you download. Why doesn't Microsoft provide the protections when you need to download from the internet instead of their store. Microsoft store diffenatly does not have everything you need in their store. Generic software drivers do not work for everyone and generic software is not the same as factory software that comes with the hardware you use to print / scan or copy. Microsoft also slowed down my laptop when I shut off the S software for security . If Microsoft offered everything under the sun people need for their laptops then they would not need to resort such tactics like threatening to slow down your computer.\",\n          \"This 15.6  laptop  with 20GB RAM 1TB SSD, also with1 year Microsoft office 365 and so on,  are all good for me. I can save or store a lot of documents. With microsoft 365, I can easily star work immediatly, also the price good, I like it. So I immediately order it. Thank you! (Goshang)\",\n          \"I am very happy with this laptop.  I bought it for my daughter.  I didn't realize it came with Microsoft Windows S, which is a more secure version of the operating system and only allows you to install apps from the Microsoft Store.  There are some who would not enjoy this, but for our purposes, this is perfect.  I feel safer knowing that the applications I am installing have been vetted by Microsoft before I install them.  I think this is the perfect laptop to purchase for someone who is less technical and doesn't understand the importance of not clicking and installing everything under the sun.The laptop itself came with a Terrabyte of disk space (almost unheard of these days in lower priced laptops) and 20 Gigs of RAM (way more than usual in laptops of this price).I would purchase another of these in a heartbeat, if I needed to.\"\n        ],\n        \"num_unique_values\": 8,\n        \"semantic_type\": \"\",\n        \"description\": \"\"\n      }\n    }\n  ]\n}"
            }
          },
          "metadata": {},
          "execution_count": 97
        }
      ]
    },
    {
      "cell_type": "code",
      "source": [
        "#pre-trained model VADER (Valence Aware Dictionary and sEntiment Reasoner) for sentiment anlalysis\n",
        "import nltk\n",
        "from nltk.sentiment.vader import SentimentIntensityAnalyzer\n",
        "\n",
        "# Download the VADER lexicon for sentiment analysis\n",
        "nltk.download('vader_lexicon')\n",
        "\n",
        "# Create a SentimentIntensityAnalyzer object\n",
        "sid = SentimentIntensityAnalyzer()\n",
        "\n",
        "# Example reviews from your dataset\n",
        "reviews = [\n",
        "    \"Great laptop for the price! I am very happy with this laptop.\",\n",
        "    \"Finally a laptop that runs extremely well. I've had two different laptops from HP and ASUS...\",\n",
        "    \"My new foray into Windows 11, so far so good. This is my first new computer in about 7 or 8 ...\",\n",
        "    \"I love the size and light weight. Very fast so...\",\n",
        "    \"Decent but not the best. I bought this cause it said it was good for st...\",\n",
        "    \"Good and not expensive. This 15.6 laptop with 20GB RAM 1TB SSD, also...\"\n",
        "]\n",
        "\n",
        "# Perform sentiment analysis on each review\n",
        "for review in reviews:\n",
        "    # Calculate sentiment scores\n",
        "    scores = sid.polarity_scores(review)\n",
        "\n",
        "    # Print the review and its sentiment scores\n",
        "    print(f\"Review: {review}\")\n",
        "    print(f\"Sentiment Scores: {scores}\")\n",
        "    print()\n"
      ],
      "metadata": {
        "colab": {
          "base_uri": "https://localhost:8080/"
        },
        "id": "ZVDAjpTYAAsr",
        "outputId": "e968667b-3b43-4e14-87df-bd5d93f030a3"
      },
      "execution_count": 98,
      "outputs": [
        {
          "output_type": "stream",
          "name": "stdout",
          "text": [
            "Review: Great laptop for the price! I am very happy with this laptop.\n",
            "Sentiment Scores: {'neg': 0.0, 'neu': 0.518, 'pos': 0.482, 'compound': 0.855}\n",
            "\n",
            "Review: Finally a laptop that runs extremely well. I've had two different laptops from HP and ASUS...\n",
            "Sentiment Scores: {'neg': 0.0, 'neu': 0.854, 'pos': 0.146, 'compound': 0.3384}\n",
            "\n",
            "Review: My new foray into Windows 11, so far so good. This is my first new computer in about 7 or 8 ...\n",
            "Sentiment Scores: {'neg': 0.0, 'neu': 0.824, 'pos': 0.176, 'compound': 0.6213}\n",
            "\n",
            "Review: I love the size and light weight. Very fast so...\n",
            "Sentiment Scores: {'neg': 0.0, 'neu': 0.656, 'pos': 0.344, 'compound': 0.6369}\n",
            "\n",
            "Review: Decent but not the best. I bought this cause it said it was good for st...\n",
            "Sentiment Scores: {'neg': 0.213, 'neu': 0.607, 'pos': 0.18, 'compound': -0.1783}\n",
            "\n",
            "Review: Good and not expensive. This 15.6 laptop with 20GB RAM 1TB SSD, also...\n",
            "Sentiment Scores: {'neg': 0.0, 'neu': 0.805, 'pos': 0.195, 'compound': 0.4404}\n",
            "\n"
          ]
        },
        {
          "output_type": "stream",
          "name": "stderr",
          "text": [
            "[nltk_data] Downloading package vader_lexicon to /root/nltk_data...\n"
          ]
        }
      ]
    },
    {
      "cell_type": "markdown",
      "source": [],
      "metadata": {
        "id": "w3WotVLfGULh"
      }
    },
    {
      "cell_type": "code",
      "source": [
        "import pandas as pd\n",
        "from sklearn.model_selection import train_test_split\n",
        "from sklearn.feature_extraction.text import TfidfVectorizer\n",
        "from sklearn.naive_bayes import MultinomialNB\n",
        "from sklearn.metrics import accuracy_score, classification_report\n",
        "\n",
        "# Assuming 'df' is your DataFrame containing the dataset\n",
        "X = df['Reviews']\n",
        "y = (df['Rating out of 5'] >= 3).astype(int)  # Convert ratings to binary sentiment labels (1: positive, 0: negative)\n",
        "\n",
        "# Split the data into training and testing sets\n",
        "X_train, X_test, y_train, y_test = train_test_split(X, y, test_size=0.2, random_state=42)\n",
        "\n",
        "# Feature extraction using TF-IDF vectorization\n",
        "tfidf_vectorizer = TfidfVectorizer(max_features=1000)  # You can adjust max_features as needed\n",
        "X_train_tfidf = tfidf_vectorizer.fit_transform(X_train)\n",
        "X_test_tfidf = tfidf_vectorizer.transform(X_test)\n",
        "\n",
        "# Naive Bayes model\n",
        "naive_bayes = MultinomialNB()\n",
        "naive_bayes.fit(X_train_tfidf, y_train)\n",
        "\n",
        "# Predictions on the test set\n",
        "y_pred = naive_bayes.predict(X_test_tfidf)\n",
        "\n",
        "# Model evaluation\n",
        "accuracy = accuracy_score(y_test, y_pred)\n",
        "print(f\"Accuracy: {accuracy:.2f}\")\n",
        "\n",
        "# Classification report\n",
        "print(\"Classification Report:\")\n",
        "print(classification_report(y_test, y_pred))\n",
        "\n"
      ],
      "metadata": {
        "colab": {
          "base_uri": "https://localhost:8080/"
        },
        "id": "TiFLOk0pBgWa",
        "outputId": "6c8428f7-2f0d-4c85-fd96-725071ee340c"
      },
      "execution_count": 112,
      "outputs": [
        {
          "output_type": "stream",
          "name": "stdout",
          "text": [
            "Accuracy: 1.00\n",
            "Classification Report:\n",
            "              precision    recall  f1-score   support\n",
            "\n",
            "           0       1.00      1.00      1.00         2\n",
            "           1       1.00      1.00      1.00         6\n",
            "\n",
            "    accuracy                           1.00         8\n",
            "   macro avg       1.00      1.00      1.00         8\n",
            "weighted avg       1.00      1.00      1.00         8\n",
            "\n"
          ]
        }
      ]
    }
  ]
}